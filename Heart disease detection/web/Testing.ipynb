{
 "cells": [
  {
   "cell_type": "code",
   "execution_count": 1,
   "metadata": {},
   "outputs": [],
   "source": [
    "import numpy as np\n",
    "import pickle"
   ]
  },
  {
   "cell_type": "code",
   "execution_count": 2,
   "metadata": {},
   "outputs": [],
   "source": [
    "file=open('My_Model_Logistic.pkl','rb')"
   ]
  },
  {
   "cell_type": "code",
   "execution_count": 3,
   "metadata": {},
   "outputs": [],
   "source": [
    "parameters=pickle.load(file)"
   ]
  },
  {
   "cell_type": "code",
   "execution_count": 4,
   "metadata": {},
   "outputs": [
    {
     "data": {
      "text/plain": [
       "{'weight': array([[ 0.54378466],\n",
       "        [ 0.7267428 ],\n",
       "        [-0.08620111],\n",
       "        [ 0.26688675],\n",
       "        [ 0.17422981],\n",
       "        [ 0.40653534],\n",
       "        [ 0.14582588],\n",
       "        [ 0.08463437],\n",
       "        [ 2.59927923],\n",
       "        [ 3.62706283],\n",
       "        [ 0.29213788],\n",
       "        [-0.08255394],\n",
       "        [ 0.03400593],\n",
       "        [ 1.25041173]]),\n",
       " 'bias': -5.345086581390208}"
      ]
     },
     "execution_count": 4,
     "metadata": {},
     "output_type": "execute_result"
    }
   ],
   "source": [
    "parameters"
   ]
  },
  {
   "cell_type": "code",
   "execution_count": 404,
   "metadata": {},
   "outputs": [],
   "source": [
    "X=np.array([(1,25,0,0,0,0,0,0,180,180,106,25,110,10)],dtype=np.float32)\n",
    "X=X.reshape(X.shape[0],-1).T"
   ]
  },
  {
   "cell_type": "code",
   "execution_count": 405,
   "metadata": {},
   "outputs": [],
   "source": [
    "def sigmoid(z):\n",
    "    \n",
    "    y_head = 1/(1+ np.exp(-z))\n",
    "    return y_head "
   ]
  },
  {
   "cell_type": "code",
   "execution_count": 406,
   "metadata": {},
   "outputs": [],
   "source": [
    "X[8]=(X[8]-107)/(696-107)\n",
    "X[9]=(X[9]-83.5)/(295-83.5)\n",
    "\n",
    "X[10]=(X[10]-48)/(142.5-48)\n",
    "\n",
    "X[11]=(X[11]-15.54)/(56.8-15.54)\n",
    "\n",
    "X[12]=(X[12]-44)/(143-44)\n",
    "X[13]=(X[13]-40)/(394-40)\n",
    "X[1]/=10\n",
    "X[3]/=10"
   ]
  },
  {
   "cell_type": "code",
   "execution_count": 407,
   "metadata": {},
   "outputs": [],
   "source": [
    " z = sigmoid((np.dot(parameters['weight'].T,X)+parameters['bias']))"
   ]
  },
  {
   "cell_type": "code",
   "execution_count": 408,
   "metadata": {},
   "outputs": [
    {
     "data": {
      "text/plain": [
       "array([[0.28286083]])"
      ]
     },
     "execution_count": 408,
     "metadata": {},
     "output_type": "execute_result"
    }
   ],
   "source": [
    "z"
   ]
  },
  {
   "cell_type": "code",
   "execution_count": null,
   "metadata": {},
   "outputs": [],
   "source": []
  },
  {
   "cell_type": "code",
   "execution_count": null,
   "metadata": {},
   "outputs": [],
   "source": []
  }
 ],
 "metadata": {
  "kernelspec": {
   "display_name": "Python 3",
   "language": "python",
   "name": "python3"
  },
  "language_info": {
   "codemirror_mode": {
    "name": "ipython",
    "version": 3
   },
   "file_extension": ".py",
   "mimetype": "text/x-python",
   "name": "python",
   "nbconvert_exporter": "python",
   "pygments_lexer": "ipython3",
   "version": "3.7.6"
  }
 },
 "nbformat": 4,
 "nbformat_minor": 4
}
