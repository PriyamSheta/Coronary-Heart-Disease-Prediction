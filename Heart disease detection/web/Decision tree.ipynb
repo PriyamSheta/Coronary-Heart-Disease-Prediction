{
 "cells": [
  {
   "cell_type": "code",
   "execution_count": 1,
   "metadata": {},
   "outputs": [],
   "source": [
    "import numpy as np\n",
    "import pandas as pd\n",
    "import matplotlib.pyplot as plt"
   ]
  },
  {
   "cell_type": "code",
   "execution_count": 2,
   "metadata": {},
   "outputs": [],
   "source": [
    "data=pd.read_csv('dataset.csv')"
   ]
  },
  {
   "cell_type": "code",
   "execution_count": 3,
   "metadata": {},
   "outputs": [
    {
     "data": {
      "text/html": [
       "<div>\n",
       "<style scoped>\n",
       "    .dataframe tbody tr th:only-of-type {\n",
       "        vertical-align: middle;\n",
       "    }\n",
       "\n",
       "    .dataframe tbody tr th {\n",
       "        vertical-align: top;\n",
       "    }\n",
       "\n",
       "    .dataframe thead th {\n",
       "        text-align: right;\n",
       "    }\n",
       "</style>\n",
       "<table border=\"1\" class=\"dataframe\">\n",
       "  <thead>\n",
       "    <tr style=\"text-align: right;\">\n",
       "      <th></th>\n",
       "      <th>male</th>\n",
       "      <th>age</th>\n",
       "      <th>education</th>\n",
       "      <th>currentSmoker</th>\n",
       "      <th>cigsPerDay</th>\n",
       "      <th>BPMeds</th>\n",
       "      <th>prevalentStroke</th>\n",
       "      <th>prevalentHyp</th>\n",
       "      <th>diabetes</th>\n",
       "      <th>totChol</th>\n",
       "      <th>sysBP</th>\n",
       "      <th>diaBP</th>\n",
       "      <th>BMI</th>\n",
       "      <th>heartRate</th>\n",
       "      <th>glucose</th>\n",
       "      <th>TenYearCHD</th>\n",
       "    </tr>\n",
       "  </thead>\n",
       "  <tbody>\n",
       "    <tr>\n",
       "      <th>0</th>\n",
       "      <td>1</td>\n",
       "      <td>39</td>\n",
       "      <td>4.0</td>\n",
       "      <td>0</td>\n",
       "      <td>0.0</td>\n",
       "      <td>0.0</td>\n",
       "      <td>0</td>\n",
       "      <td>0</td>\n",
       "      <td>0</td>\n",
       "      <td>195.0</td>\n",
       "      <td>106.0</td>\n",
       "      <td>70.0</td>\n",
       "      <td>26.97</td>\n",
       "      <td>80.0</td>\n",
       "      <td>77.0</td>\n",
       "      <td>0</td>\n",
       "    </tr>\n",
       "    <tr>\n",
       "      <th>1</th>\n",
       "      <td>0</td>\n",
       "      <td>46</td>\n",
       "      <td>2.0</td>\n",
       "      <td>0</td>\n",
       "      <td>0.0</td>\n",
       "      <td>0.0</td>\n",
       "      <td>0</td>\n",
       "      <td>0</td>\n",
       "      <td>0</td>\n",
       "      <td>250.0</td>\n",
       "      <td>121.0</td>\n",
       "      <td>81.0</td>\n",
       "      <td>28.73</td>\n",
       "      <td>95.0</td>\n",
       "      <td>76.0</td>\n",
       "      <td>0</td>\n",
       "    </tr>\n",
       "    <tr>\n",
       "      <th>2</th>\n",
       "      <td>1</td>\n",
       "      <td>48</td>\n",
       "      <td>1.0</td>\n",
       "      <td>1</td>\n",
       "      <td>20.0</td>\n",
       "      <td>0.0</td>\n",
       "      <td>0</td>\n",
       "      <td>0</td>\n",
       "      <td>0</td>\n",
       "      <td>245.0</td>\n",
       "      <td>127.5</td>\n",
       "      <td>80.0</td>\n",
       "      <td>25.34</td>\n",
       "      <td>75.0</td>\n",
       "      <td>70.0</td>\n",
       "      <td>0</td>\n",
       "    </tr>\n",
       "    <tr>\n",
       "      <th>3</th>\n",
       "      <td>0</td>\n",
       "      <td>61</td>\n",
       "      <td>3.0</td>\n",
       "      <td>1</td>\n",
       "      <td>30.0</td>\n",
       "      <td>0.0</td>\n",
       "      <td>0</td>\n",
       "      <td>1</td>\n",
       "      <td>0</td>\n",
       "      <td>225.0</td>\n",
       "      <td>150.0</td>\n",
       "      <td>95.0</td>\n",
       "      <td>28.58</td>\n",
       "      <td>65.0</td>\n",
       "      <td>103.0</td>\n",
       "      <td>1</td>\n",
       "    </tr>\n",
       "    <tr>\n",
       "      <th>4</th>\n",
       "      <td>0</td>\n",
       "      <td>46</td>\n",
       "      <td>3.0</td>\n",
       "      <td>1</td>\n",
       "      <td>23.0</td>\n",
       "      <td>0.0</td>\n",
       "      <td>0</td>\n",
       "      <td>0</td>\n",
       "      <td>0</td>\n",
       "      <td>285.0</td>\n",
       "      <td>130.0</td>\n",
       "      <td>84.0</td>\n",
       "      <td>23.10</td>\n",
       "      <td>85.0</td>\n",
       "      <td>85.0</td>\n",
       "      <td>0</td>\n",
       "    </tr>\n",
       "    <tr>\n",
       "      <th>...</th>\n",
       "      <td>...</td>\n",
       "      <td>...</td>\n",
       "      <td>...</td>\n",
       "      <td>...</td>\n",
       "      <td>...</td>\n",
       "      <td>...</td>\n",
       "      <td>...</td>\n",
       "      <td>...</td>\n",
       "      <td>...</td>\n",
       "      <td>...</td>\n",
       "      <td>...</td>\n",
       "      <td>...</td>\n",
       "      <td>...</td>\n",
       "      <td>...</td>\n",
       "      <td>...</td>\n",
       "      <td>...</td>\n",
       "    </tr>\n",
       "    <tr>\n",
       "      <th>95</th>\n",
       "      <td>0</td>\n",
       "      <td>65</td>\n",
       "      <td>3.0</td>\n",
       "      <td>0</td>\n",
       "      <td>0.0</td>\n",
       "      <td>0.0</td>\n",
       "      <td>0</td>\n",
       "      <td>0</td>\n",
       "      <td>0</td>\n",
       "      <td>193.0</td>\n",
       "      <td>123.0</td>\n",
       "      <td>76.5</td>\n",
       "      <td>29.33</td>\n",
       "      <td>60.0</td>\n",
       "      <td>96.0</td>\n",
       "      <td>0</td>\n",
       "    </tr>\n",
       "    <tr>\n",
       "      <th>96</th>\n",
       "      <td>0</td>\n",
       "      <td>63</td>\n",
       "      <td>4.0</td>\n",
       "      <td>1</td>\n",
       "      <td>20.0</td>\n",
       "      <td>0.0</td>\n",
       "      <td>0</td>\n",
       "      <td>0</td>\n",
       "      <td>1</td>\n",
       "      <td>239.0</td>\n",
       "      <td>134.0</td>\n",
       "      <td>80.0</td>\n",
       "      <td>26.64</td>\n",
       "      <td>88.0</td>\n",
       "      <td>126.0</td>\n",
       "      <td>0</td>\n",
       "    </tr>\n",
       "    <tr>\n",
       "      <th>97</th>\n",
       "      <td>0</td>\n",
       "      <td>40</td>\n",
       "      <td>2.0</td>\n",
       "      <td>0</td>\n",
       "      <td>0.0</td>\n",
       "      <td>0.0</td>\n",
       "      <td>0</td>\n",
       "      <td>0</td>\n",
       "      <td>0</td>\n",
       "      <td>205.0</td>\n",
       "      <td>100.0</td>\n",
       "      <td>60.0</td>\n",
       "      <td>NaN</td>\n",
       "      <td>60.0</td>\n",
       "      <td>72.0</td>\n",
       "      <td>1</td>\n",
       "    </tr>\n",
       "    <tr>\n",
       "      <th>98</th>\n",
       "      <td>0</td>\n",
       "      <td>56</td>\n",
       "      <td>1.0</td>\n",
       "      <td>0</td>\n",
       "      <td>0.0</td>\n",
       "      <td>0.0</td>\n",
       "      <td>0</td>\n",
       "      <td>1</td>\n",
       "      <td>0</td>\n",
       "      <td>296.0</td>\n",
       "      <td>180.0</td>\n",
       "      <td>90.0</td>\n",
       "      <td>23.72</td>\n",
       "      <td>75.0</td>\n",
       "      <td>120.0</td>\n",
       "      <td>0</td>\n",
       "    </tr>\n",
       "    <tr>\n",
       "      <th>99</th>\n",
       "      <td>0</td>\n",
       "      <td>56</td>\n",
       "      <td>1.0</td>\n",
       "      <td>1</td>\n",
       "      <td>15.0</td>\n",
       "      <td>0.0</td>\n",
       "      <td>0</td>\n",
       "      <td>0</td>\n",
       "      <td>0</td>\n",
       "      <td>269.0</td>\n",
       "      <td>121.0</td>\n",
       "      <td>75.0</td>\n",
       "      <td>22.36</td>\n",
       "      <td>50.0</td>\n",
       "      <td>66.0</td>\n",
       "      <td>0</td>\n",
       "    </tr>\n",
       "  </tbody>\n",
       "</table>\n",
       "<p>100 rows × 16 columns</p>\n",
       "</div>"
      ],
      "text/plain": [
       "    male  age  education  currentSmoker  cigsPerDay  BPMeds  prevalentStroke  \\\n",
       "0      1   39        4.0              0         0.0     0.0                0   \n",
       "1      0   46        2.0              0         0.0     0.0                0   \n",
       "2      1   48        1.0              1        20.0     0.0                0   \n",
       "3      0   61        3.0              1        30.0     0.0                0   \n",
       "4      0   46        3.0              1        23.0     0.0                0   \n",
       "..   ...  ...        ...            ...         ...     ...              ...   \n",
       "95     0   65        3.0              0         0.0     0.0                0   \n",
       "96     0   63        4.0              1        20.0     0.0                0   \n",
       "97     0   40        2.0              0         0.0     0.0                0   \n",
       "98     0   56        1.0              0         0.0     0.0                0   \n",
       "99     0   56        1.0              1        15.0     0.0                0   \n",
       "\n",
       "    prevalentHyp  diabetes  totChol  sysBP  diaBP    BMI  heartRate  glucose  \\\n",
       "0              0         0    195.0  106.0   70.0  26.97       80.0     77.0   \n",
       "1              0         0    250.0  121.0   81.0  28.73       95.0     76.0   \n",
       "2              0         0    245.0  127.5   80.0  25.34       75.0     70.0   \n",
       "3              1         0    225.0  150.0   95.0  28.58       65.0    103.0   \n",
       "4              0         0    285.0  130.0   84.0  23.10       85.0     85.0   \n",
       "..           ...       ...      ...    ...    ...    ...        ...      ...   \n",
       "95             0         0    193.0  123.0   76.5  29.33       60.0     96.0   \n",
       "96             0         1    239.0  134.0   80.0  26.64       88.0    126.0   \n",
       "97             0         0    205.0  100.0   60.0    NaN       60.0     72.0   \n",
       "98             1         0    296.0  180.0   90.0  23.72       75.0    120.0   \n",
       "99             0         0    269.0  121.0   75.0  22.36       50.0     66.0   \n",
       "\n",
       "    TenYearCHD  \n",
       "0            0  \n",
       "1            0  \n",
       "2            0  \n",
       "3            1  \n",
       "4            0  \n",
       "..         ...  \n",
       "95           0  \n",
       "96           0  \n",
       "97           1  \n",
       "98           0  \n",
       "99           0  \n",
       "\n",
       "[100 rows x 16 columns]"
      ]
     },
     "execution_count": 3,
     "metadata": {},
     "output_type": "execute_result"
    }
   ],
   "source": [
    "data.head(100)"
   ]
  },
  {
   "cell_type": "code",
   "execution_count": 4,
   "metadata": {},
   "outputs": [],
   "source": [
    "data=data.drop(labels='education',axis=1)    #Dropping education column"
   ]
  },
  {
   "cell_type": "code",
   "execution_count": 5,
   "metadata": {},
   "outputs": [
    {
     "data": {
      "text/plain": [
       "male                 0\n",
       "age                  0\n",
       "currentSmoker        0\n",
       "cigsPerDay          29\n",
       "BPMeds              53\n",
       "prevalentStroke      0\n",
       "prevalentHyp         0\n",
       "diabetes             0\n",
       "totChol             50\n",
       "sysBP                0\n",
       "diaBP                0\n",
       "BMI                 19\n",
       "heartRate            1\n",
       "glucose            388\n",
       "TenYearCHD           0\n",
       "dtype: int64"
      ]
     },
     "execution_count": 5,
     "metadata": {},
     "output_type": "execute_result"
    }
   ],
   "source": [
    "data.isnull().sum()"
   ]
  },
  {
   "cell_type": "code",
   "execution_count": 6,
   "metadata": {},
   "outputs": [],
   "source": [
    "from sklearn.impute import SimpleImputer\n",
    "imputer = SimpleImputer(missing_values=np.nan, strategy='mean')\n",
    "\n",
    "data_new = pd.DataFrame(imputer.fit_transform(data))\n",
    "data_new.columns = data.columns\n",
    "data_new.index = data.index"
   ]
  },
  {
   "cell_type": "code",
   "execution_count": 7,
   "metadata": {},
   "outputs": [
    {
     "data": {
      "text/plain": [
       "male               0\n",
       "age                0\n",
       "currentSmoker      0\n",
       "cigsPerDay         0\n",
       "BPMeds             0\n",
       "prevalentStroke    0\n",
       "prevalentHyp       0\n",
       "diabetes           0\n",
       "totChol            0\n",
       "sysBP              0\n",
       "diaBP              0\n",
       "BMI                0\n",
       "heartRate          0\n",
       "glucose            0\n",
       "TenYearCHD         0\n",
       "dtype: int64"
      ]
     },
     "execution_count": 7,
     "metadata": {},
     "output_type": "execute_result"
    }
   ],
   "source": [
    "data_new.isnull().sum()"
   ]
  },
  {
   "cell_type": "code",
   "execution_count": 8,
   "metadata": {},
   "outputs": [],
   "source": [
    "X = data_new.iloc[:,:-1].values\n",
    "y = data_new.iloc[:, -1].values"
   ]
  },
  {
   "cell_type": "code",
   "execution_count": 9,
   "metadata": {},
   "outputs": [],
   "source": [
    "X[:,8]=(X[:,8]-min(X[:,8]))/(max(X[:,8])-min(X[:,8]))\n",
    "X[:,9]=(X[:,9]-min(X[:,9]))/(max(X[:,9])-min(X[:,9]))\n",
    "X[:,10]=(X[:,10]-min(X[:,10]))/(max(X[:,10])-min(X[:,10]))\n",
    "X[:,11]=(X[:,11]-min(X[:,11]))/(max(X[:,11])-min(X[:,11]))\n",
    "X[:,12]=(X[:,12]-min(X[:,12]))/(max(X[:,12])-min(X[:,12]))\n",
    "X[:,13]=(X[:,13]-min(X[:,13]))/(max(X[:,13])-min(X[:,13]))\n"
   ]
  },
  {
   "cell_type": "code",
   "execution_count": 10,
   "metadata": {},
   "outputs": [],
   "source": [
    "X[:,1]/=10\n",
    "X[:,3]/=10\n",
    "\n"
   ]
  },
  {
   "cell_type": "code",
   "execution_count": 11,
   "metadata": {},
   "outputs": [
    {
     "data": {
      "text/plain": [
       "Text(0.5, 1.0, 'Class Distributions after resampling')"
      ]
     },
     "execution_count": 11,
     "metadata": {},
     "output_type": "execute_result"
    },
    {
     "data": {
      "image/png": "[encoded data removed]",
      "text/plain": [
       "<Figure size 432x288 with 1 Axes>"
      ]
     },
     "metadata": {
      "needs_background": "light"
     },
     "output_type": "display_data"
    }
   ],
   "source": [
    "from imblearn.over_sampling import SMOTE\n",
    "import seaborn as sns\n",
    "smote=SMOTE()\n",
    "df_temp = {'TenYearCHD' : y}\n",
    "df = pd.DataFrame(df_temp)\n",
    "plt.figure(figsize=(6, 4))\n",
    "sns.countplot('TenYearCHD', data = df)\n",
    "plt.title('Class Distributions after resampling')"
   ]
  },
  {
   "cell_type": "code",
   "execution_count": 12,
   "metadata": {},
   "outputs": [],
   "source": [
    "X_train,Y_train=smote.fit_sample(X,y)"
   ]
  },
  {
   "cell_type": "code",
   "execution_count": 13,
   "metadata": {},
   "outputs": [
    {
     "name": "stdout",
     "output_type": "stream",
     "text": [
      "Before SMOTE:  Counter({0.0: 3594, 1.0: 644})\n",
      "After SMOTE:  Counter({0.0: 3594, 1.0: 3594})\n"
     ]
    }
   ],
   "source": [
    "from collections import Counter\n",
    "print(\"Before SMOTE: \",Counter(y))\n",
    "print(\"After SMOTE: \",Counter(Y_train))"
   ]
  },
  {
   "cell_type": "code",
   "execution_count": 14,
   "metadata": {},
   "outputs": [
    {
     "data": {
      "text/plain": [
       "Text(0.5, 1.0, 'Class Distributions after resampling')"
      ]
     },
     "execution_count": 14,
     "metadata": {},
     "output_type": "execute_result"
    },
    {
     "data": {
      "image/png": "[encoded data removed]",
      "text/plain": [
       "<Figure size 432x288 with 1 Axes>"
      ]
     },
     "metadata": {
      "needs_background": "light"
     },
     "output_type": "display_data"
    }
   ],
   "source": [
    "df_temp = {'TenYearCHD' : Y_train}\n",
    "df = pd.DataFrame(df_temp)\n",
    "\n",
    "plt.figure(figsize=(6, 4))\n",
    "sns.countplot('TenYearCHD', data = df)\n",
    "plt.title('Class Distributions after resampling')"
   ]
  },
  {
   "cell_type": "code",
   "execution_count": 15,
   "metadata": {},
   "outputs": [
    {
     "name": "stdout",
     "output_type": "stream",
     "text": [
      "(7188, 14) (7188, 1)\n"
     ]
    }
   ],
   "source": [
    "Y_train = Y_train.reshape(len(Y_train), 1)\n",
    "print(X_train.shape, Y_train.shape)"
   ]
  },
  {
   "cell_type": "code",
   "execution_count": 16,
   "metadata": {},
   "outputs": [],
   "source": [
    "import random\n",
    "combined=list(zip(X_train,Y_train))"
   ]
  },
  {
   "cell_type": "code",
   "execution_count": 17,
   "metadata": {},
   "outputs": [],
   "source": [
    "random.shuffle(combined)"
   ]
  },
  {
   "cell_type": "code",
   "execution_count": 18,
   "metadata": {},
   "outputs": [],
   "source": [
    "X_train[:],Y_train[:]=zip(*combined)"
   ]
  },
  {
   "cell_type": "code",
   "execution_count": 19,
   "metadata": {},
   "outputs": [
    {
     "name": "stdout",
     "output_type": "stream",
     "text": [
      "(7188, 14) (7188, 1)\n"
     ]
    }
   ],
   "source": [
    "print(X_train.shape, Y_train.shape)"
   ]
  },
  {
   "cell_type": "code",
   "execution_count": 20,
   "metadata": {},
   "outputs": [],
   "source": [
    "X=np.array(X_train)\n",
    "y=np.array(Y_train)"
   ]
  },
  {
   "cell_type": "code",
   "execution_count": 21,
   "metadata": {},
   "outputs": [],
   "source": [
    "from sklearn.model_selection import train_test_split"
   ]
  },
  {
   "cell_type": "code",
   "execution_count": 22,
   "metadata": {},
   "outputs": [],
   "source": [
    "X_train,X_test,y_train,y_test=train_test_split(X,y,test_size=0.2)"
   ]
  },
  {
   "cell_type": "code",
   "execution_count": 23,
   "metadata": {},
   "outputs": [
    {
     "data": {
      "text/plain": [
       "(5750, 14)"
      ]
     },
     "execution_count": 23,
     "metadata": {},
     "output_type": "execute_result"
    }
   ],
   "source": [
    "X_train.shape"
   ]
  },
  {
   "cell_type": "code",
   "execution_count": 24,
   "metadata": {},
   "outputs": [
    {
     "data": {
      "text/plain": [
       "(5750, 1)"
      ]
     },
     "execution_count": 24,
     "metadata": {},
     "output_type": "execute_result"
    }
   ],
   "source": [
    "y_train.shape"
   ]
  },
  {
   "cell_type": "code",
   "execution_count": 25,
   "metadata": {},
   "outputs": [
    {
     "data": {
      "text/plain": [
       "(1438, 14)"
      ]
     },
     "execution_count": 25,
     "metadata": {},
     "output_type": "execute_result"
    }
   ],
   "source": [
    "X_test.shape"
   ]
  },
  {
   "cell_type": "code",
   "execution_count": 26,
   "metadata": {},
   "outputs": [
    {
     "data": {
      "text/plain": [
       "(1438, 1)"
      ]
     },
     "execution_count": 26,
     "metadata": {},
     "output_type": "execute_result"
    }
   ],
   "source": [
    "y_test.shape"
   ]
  },
  {
   "cell_type": "code",
   "execution_count": 27,
   "metadata": {},
   "outputs": [],
   "source": [
    "from sklearn.metrics import roc_curve\n",
    "from sklearn.metrics import roc_auc_score"
   ]
  },
  {
   "cell_type": "code",
   "execution_count": 28,
   "metadata": {},
   "outputs": [
    {
     "name": "stderr",
     "output_type": "stream",
     "text": [
      "E:\\Anaconda\\lib\\site-packages\\ipykernel_launcher.py:3: DataConversionWarning: A column-vector y was passed when a 1d array was expected. Please change the shape of y to (n_samples,), for example using ravel().\n",
      "  This is separate from the ipykernel package so we can avoid doing imports until\n"
     ]
    },
    {
     "name": "stdout",
     "output_type": "stream",
     "text": [
      "RF train roc-auc: 1.0\n",
      "RF test roc-auc: 0.9955430782895571\n"
     ]
    }
   ],
   "source": [
    "from sklearn.ensemble import RandomForestClassifier\n",
    "rf_model = RandomForestClassifier()\n",
    "rf_model.fit(X_train, y_train)\n",
    "ytrain_pred = rf_model.predict_proba(X_train)\n",
    "print('RF train roc-auc: {}'.format(roc_auc_score(y_train, ytrain_pred[:,1])))\n",
    "ytest_pred = rf_model.predict_proba(X_test)\n",
    "print('RF test roc-auc: {}'.format(roc_auc_score(y_test, ytest_pred[:,1])))"
   ]
  },
  {
   "cell_type": "code",
   "execution_count": 29,
   "metadata": {},
   "outputs": [
    {
     "data": {
      "text/plain": [
       "array([[0.  , 1.  ],\n",
       "       [0.05, 0.95],\n",
       "       [0.08, 0.92],\n",
       "       ...,\n",
       "       [0.95, 0.05],\n",
       "       [0.07, 0.93],\n",
       "       [0.05, 0.95]])"
      ]
     },
     "execution_count": 29,
     "metadata": {},
     "output_type": "execute_result"
    }
   ],
   "source": [
    "ytrain_pred"
   ]
  },
  {
   "cell_type": "code",
   "execution_count": 30,
   "metadata": {},
   "outputs": [
    {
     "name": "stderr",
     "output_type": "stream",
     "text": [
      "E:\\Anaconda\\lib\\site-packages\\sklearn\\utils\\validation.py:63: DataConversionWarning: A column-vector y was passed when a 1d array was expected. Please change the shape of y to (n_samples, ), for example using ravel().\n",
      "  return f(*args, **kwargs)\n"
     ]
    },
    {
     "name": "stdout",
     "output_type": "stream",
     "text": [
      "Logistic train roc-auc: 0.7227370811991269\n",
      "Logistic test roc-auc: 0.721235068066054\n"
     ]
    },
    {
     "name": "stderr",
     "output_type": "stream",
     "text": [
      "E:\\Anaconda\\lib\\site-packages\\sklearn\\linear_model\\_logistic.py:765: ConvergenceWarning: lbfgs failed to converge (status=1):\n",
      "STOP: TOTAL NO. of ITERATIONS REACHED LIMIT.\n",
      "\n",
      "Increase the number of iterations (max_iter) or scale the data as shown in:\n",
      "    https://scikit-learn.org/stable/modules/preprocessing.html\n",
      "Please also refer to the documentation for alternative solver options:\n",
      "    https://scikit-learn.org/stable/modules/linear_model.html#logistic-regression\n",
      "  extra_warning_msg=_LOGISTIC_SOLVER_CONVERGENCE_MSG)\n"
     ]
    }
   ],
   "source": [
    "from sklearn.linear_model import LogisticRegression\n",
    "log_classifier=LogisticRegression()\n",
    "log_classifier.fit(X_train, y_train)\n",
    "ytrain_pred = log_classifier.predict_proba(X_train)\n",
    "print('Logistic train roc-auc: {}'.format(roc_auc_score(y_train, ytrain_pred[:,1])))\n",
    "ytest_pred = log_classifier.predict_proba(X_test)\n",
    "print('Logistic test roc-auc: {}'.format(roc_auc_score(y_test, ytest_pred[:,1])))"
   ]
  },
  {
   "cell_type": "code",
   "execution_count": 31,
   "metadata": {},
   "outputs": [
    {
     "name": "stderr",
     "output_type": "stream",
     "text": [
      "E:\\Anaconda\\lib\\site-packages\\sklearn\\utils\\validation.py:63: DataConversionWarning: A column-vector y was passed when a 1d array was expected. Please change the shape of y to (n_samples, ), for example using ravel().\n",
      "  return f(*args, **kwargs)\n"
     ]
    },
    {
     "name": "stdout",
     "output_type": "stream",
     "text": [
      "Adaboost train roc-auc: 0.8467610296104937\n",
      "Adaboost test roc-auc: 0.8291052622038537\n"
     ]
    }
   ],
   "source": [
    "from sklearn.ensemble import AdaBoostClassifier\n",
    "ada_classifier=AdaBoostClassifier()\n",
    "ada_classifier.fit(X_train, y_train)\n",
    "ytrain_pred = ada_classifier.predict_proba(X_train)\n",
    "print('Adaboost train roc-auc: {}'.format(roc_auc_score(y_train, ytrain_pred[:,1])))\n",
    "ytest_pred = ada_classifier.predict_proba(X_test)\n",
    "print('Adaboost test roc-auc: {}'.format(roc_auc_score(y_test, ytest_pred[:,1])))"
   ]
  },
  {
   "cell_type": "code",
   "execution_count": 32,
   "metadata": {},
   "outputs": [
    {
     "name": "stderr",
     "output_type": "stream",
     "text": [
      "E:\\Anaconda\\lib\\site-packages\\sklearn\\neighbors\\_classification.py:179: DataConversionWarning: A column-vector y was passed when a 1d array was expected. Please change the shape of y to (n_samples,), for example using ravel().\n",
      "  return self._fit(X, y)\n"
     ]
    },
    {
     "name": "stdout",
     "output_type": "stream",
     "text": [
      "Adaboost train roc-auc: 0.9898356402285621\n",
      "Adaboost test roc-auc: 0.9472408776986243\n"
     ]
    }
   ],
   "source": [
    "from sklearn.neighbors import KNeighborsClassifier\n",
    "knn_classifier=KNeighborsClassifier()\n",
    "knn_classifier.fit(X_train, y_train)\n",
    "ytrain_pred = knn_classifier.predict_proba(X_train)\n",
    "print('Adaboost train roc-auc: {}'.format(roc_auc_score(y_train, ytrain_pred[:,1])))\n",
    "ytest_pred = knn_classifier.predict_proba(X_test)\n",
    "print('Adaboost test roc-auc: {}'.format(roc_auc_score(y_test, ytest_pred[:,1])))"
   ]
  },
  {
   "cell_type": "code",
   "execution_count": 33,
   "metadata": {},
   "outputs": [
    {
     "name": "stdout",
     "output_type": "stream",
     "text": [
      "Ensemble test roc-auc: 0.9825575072053945\n"
     ]
    }
   ],
   "source": [
    "pred=[]\n",
    "for model in [rf_model,log_classifier,ada_classifier,knn_classifier]:\n",
    "    pred.append(pd.Series(model.predict_proba(X_test)[:,1]))\n",
    "final_prediction=pd.concat(pred,axis=1).mean(axis=1)\n",
    "print('Ensemble test roc-auc: {}'.format(roc_auc_score(y_test,final_prediction)))"
   ]
  },
  {
   "cell_type": "code",
   "execution_count": 34,
   "metadata": {},
   "outputs": [
    {
     "data": {
      "text/html": [
       "<div>\n",
       "<style scoped>\n",
       "    .dataframe tbody tr th:only-of-type {\n",
       "        vertical-align: middle;\n",
       "    }\n",
       "\n",
       "    .dataframe tbody tr th {\n",
       "        vertical-align: top;\n",
       "    }\n",
       "\n",
       "    .dataframe thead th {\n",
       "        text-align: right;\n",
       "    }\n",
       "</style>\n",
       "<table border=\"1\" class=\"dataframe\">\n",
       "  <thead>\n",
       "    <tr style=\"text-align: right;\">\n",
       "      <th></th>\n",
       "      <th>0</th>\n",
       "      <th>1</th>\n",
       "      <th>2</th>\n",
       "      <th>3</th>\n",
       "    </tr>\n",
       "  </thead>\n",
       "  <tbody>\n",
       "    <tr>\n",
       "      <th>0</th>\n",
       "      <td>0.33</td>\n",
       "      <td>0.806251</td>\n",
       "      <td>0.506168</td>\n",
       "      <td>0.4</td>\n",
       "    </tr>\n",
       "    <tr>\n",
       "      <th>1</th>\n",
       "      <td>1.00</td>\n",
       "      <td>0.827146</td>\n",
       "      <td>0.512253</td>\n",
       "      <td>1.0</td>\n",
       "    </tr>\n",
       "    <tr>\n",
       "      <th>2</th>\n",
       "      <td>0.97</td>\n",
       "      <td>0.773424</td>\n",
       "      <td>0.507738</td>\n",
       "      <td>1.0</td>\n",
       "    </tr>\n",
       "    <tr>\n",
       "      <th>3</th>\n",
       "      <td>1.00</td>\n",
       "      <td>0.824996</td>\n",
       "      <td>0.509240</td>\n",
       "      <td>1.0</td>\n",
       "    </tr>\n",
       "    <tr>\n",
       "      <th>4</th>\n",
       "      <td>0.65</td>\n",
       "      <td>0.672763</td>\n",
       "      <td>0.504042</td>\n",
       "      <td>0.0</td>\n",
       "    </tr>\n",
       "    <tr>\n",
       "      <th>...</th>\n",
       "      <td>...</td>\n",
       "      <td>...</td>\n",
       "      <td>...</td>\n",
       "      <td>...</td>\n",
       "    </tr>\n",
       "    <tr>\n",
       "      <th>1433</th>\n",
       "      <td>0.97</td>\n",
       "      <td>0.677002</td>\n",
       "      <td>0.506905</td>\n",
       "      <td>0.8</td>\n",
       "    </tr>\n",
       "    <tr>\n",
       "      <th>1434</th>\n",
       "      <td>0.80</td>\n",
       "      <td>0.686143</td>\n",
       "      <td>0.511981</td>\n",
       "      <td>0.8</td>\n",
       "    </tr>\n",
       "    <tr>\n",
       "      <th>1435</th>\n",
       "      <td>0.95</td>\n",
       "      <td>0.765702</td>\n",
       "      <td>0.510284</td>\n",
       "      <td>1.0</td>\n",
       "    </tr>\n",
       "    <tr>\n",
       "      <th>1436</th>\n",
       "      <td>0.91</td>\n",
       "      <td>0.634557</td>\n",
       "      <td>0.513665</td>\n",
       "      <td>1.0</td>\n",
       "    </tr>\n",
       "    <tr>\n",
       "      <th>1437</th>\n",
       "      <td>0.95</td>\n",
       "      <td>0.591546</td>\n",
       "      <td>0.503970</td>\n",
       "      <td>1.0</td>\n",
       "    </tr>\n",
       "  </tbody>\n",
       "</table>\n",
       "<p>1438 rows × 4 columns</p>\n",
       "</div>"
      ],
      "text/plain": [
       "         0         1         2    3\n",
       "0     0.33  0.806251  0.506168  0.4\n",
       "1     1.00  0.827146  0.512253  1.0\n",
       "2     0.97  0.773424  0.507738  1.0\n",
       "3     1.00  0.824996  0.509240  1.0\n",
       "4     0.65  0.672763  0.504042  0.0\n",
       "...    ...       ...       ...  ...\n",
       "1433  0.97  0.677002  0.506905  0.8\n",
       "1434  0.80  0.686143  0.511981  0.8\n",
       "1435  0.95  0.765702  0.510284  1.0\n",
       "1436  0.91  0.634557  0.513665  1.0\n",
       "1437  0.95  0.591546  0.503970  1.0\n",
       "\n",
       "[1438 rows x 4 columns]"
      ]
     },
     "execution_count": 34,
     "metadata": {},
     "output_type": "execute_result"
    }
   ],
   "source": [
    "\n",
    "pd.concat(pred,axis=1)"
   ]
  },
  {
   "cell_type": "code",
   "execution_count": 35,
   "metadata": {},
   "outputs": [
    {
     "data": {
      "text/plain": [
       "0       0.510605\n",
       "1       0.834850\n",
       "2       0.812790\n",
       "3       0.833559\n",
       "4       0.456701\n",
       "          ...   \n",
       "1433    0.738477\n",
       "1434    0.699531\n",
       "1435    0.806496\n",
       "1436    0.764555\n",
       "1437    0.761379\n",
       "Length: 1438, dtype: float64"
      ]
     },
     "execution_count": 35,
     "metadata": {},
     "output_type": "execute_result"
    }
   ],
   "source": [
    "\n",
    "final_prediction"
   ]
  },
  {
   "cell_type": "code",
   "execution_count": 36,
   "metadata": {},
   "outputs": [
    {
     "data": {
      "text/plain": [
       "array([1.86993842, 0.86993842, 0.86618556, 0.8640658 , 0.86346322,\n",
       "       0.85827482, 0.85816235, 0.85464634, 0.8542466 , 0.85418534,\n",
       "       0.85412925, 0.85020915, 0.84990871, 0.84974459, 0.84936473,\n",
       "       0.83937753, 0.83937688, 0.83917869, 0.83909606, 0.8381889 ,\n",
       "       0.83815502, 0.83594359, 0.83554953, 0.83397174, 0.8338628 ,\n",
       "       0.83343879, 0.83334369, 0.83292473, 0.83265918, 0.83247728,\n",
       "       0.83234587, 0.82901833, 0.82889045, 0.82872398, 0.82871701,\n",
       "       0.82863493, 0.82852036, 0.82634679, 0.82634293, 0.82588201,\n",
       "       0.82581222, 0.82171639, 0.8215196 , 0.82082563, 0.82075059,\n",
       "       0.81984854, 0.81970216, 0.81856159, 0.81829952, 0.81812664,\n",
       "       0.81806422, 0.81720942, 0.81718607, 0.81507706, 0.81478229,\n",
       "       0.81405585, 0.81397875, 0.8129469 , 0.81279044, 0.81139747,\n",
       "       0.81127323, 0.80974504, 0.80947319, 0.80852697, 0.80817831,\n",
       "       0.80794088, 0.80791772, 0.80783755, 0.80755783, 0.80726867,\n",
       "       0.80714574, 0.80681522, 0.80649649, 0.80200993, 0.80199131,\n",
       "       0.7997726 , 0.79975997, 0.79840655, 0.79840641, 0.79785079,\n",
       "       0.79748751, 0.79725687, 0.7972337 , 0.79706022, 0.7968135 ,\n",
       "       0.79642853, 0.79623632, 0.79352985, 0.79352787, 0.79210169,\n",
       "       0.79197561, 0.7898292 , 0.78960326, 0.78909599, 0.78896375,\n",
       "       0.78740483, 0.78725012, 0.78587919, 0.78583493, 0.78482985,\n",
       "       0.78480889, 0.78467857, 0.78428511, 0.78413145, 0.78099094,\n",
       "       0.78085172, 0.77908546, 0.77899429, 0.77815413, 0.77807325,\n",
       "       0.77680845, 0.77674791, 0.77569935, 0.77567802, 0.7739974 ,\n",
       "       0.7737206 , 0.77116023, 0.77102883, 0.77060807, 0.77057748,\n",
       "       0.76869974, 0.76793077, 0.7651188 , 0.76475586, 0.76407228,\n",
       "       0.76402601, 0.76362068, 0.76332417, 0.76266134, 0.76241666,\n",
       "       0.76137879, 0.75853895, 0.75840035, 0.75758118, 0.75666109,\n",
       "       0.7562982 , 0.7562632 , 0.75594659, 0.75573742, 0.75565961,\n",
       "       0.75562659, 0.75522923, 0.75499157, 0.75485521, 0.75432401,\n",
       "       0.75428921, 0.75331574, 0.75310201, 0.75309745, 0.75249224,\n",
       "       0.74981822, 0.74970761, 0.74514058, 0.74481288, 0.74444696,\n",
       "       0.74428743, 0.74021377, 0.7394157 , 0.73804442, 0.73762353,\n",
       "       0.73666578, 0.73560737, 0.73286258, 0.7327812 , 0.73168983,\n",
       "       0.73155077, 0.72751223, 0.72741307, 0.7257505 , 0.72547252,\n",
       "       0.72491899, 0.7248559 , 0.7241852 , 0.72389244, 0.72080066,\n",
       "       0.72017064, 0.71994797, 0.71709113, 0.7170513 , 0.70831394,\n",
       "       0.70815827, 0.7075655 , 0.70378826, 0.70248704, 0.70226076,\n",
       "       0.7003633 , 0.69839326, 0.69809929, 0.68100143, 0.67965344,\n",
       "       0.67616263, 0.67405447, 0.6738956 , 0.67384067, 0.67380331,\n",
       "       0.67164055, 0.66649405, 0.66606509, 0.66381786, 0.66303813,\n",
       "       0.66174839, 0.66122636, 0.64347342, 0.64249254, 0.64180391,\n",
       "       0.63457676, 0.63392316, 0.63379506, 0.63265418, 0.62544027,\n",
       "       0.6190583 , 0.61614166, 0.61598553, 0.61514711, 0.61439349,\n",
       "       0.60901946, 0.60646914, 0.60021244, 0.5939069 , 0.59095303,\n",
       "       0.58970803, 0.58659815, 0.58620387, 0.58558704, 0.58121565,\n",
       "       0.58097512, 0.57846827, 0.57391345, 0.57391229, 0.57296533,\n",
       "       0.57198385, 0.57179159, 0.57095143, 0.57057353, 0.57029517,\n",
       "       0.56976338, 0.56690209, 0.56262975, 0.56194723, 0.56049274,\n",
       "       0.55582318, 0.55360852, 0.55259299, 0.55220101, 0.54939651,\n",
       "       0.54644834, 0.54218515, 0.53826032, 0.53597294, 0.5354199 ,\n",
       "       0.53142801, 0.52372459, 0.51950587, 0.519377  , 0.5191453 ,\n",
       "       0.51717008, 0.51692737, 0.51116646, 0.51071565, 0.50621292,\n",
       "       0.50400351, 0.49523143, 0.49463412, 0.49329611, 0.49261695,\n",
       "       0.48595947, 0.48589631, 0.4727873 , 0.46957815, 0.46951766,\n",
       "       0.46881448, 0.46827288, 0.45828557, 0.45781208, 0.45748677,\n",
       "       0.45670128, 0.45644763, 0.45383732, 0.44892582, 0.44801437,\n",
       "       0.44762638, 0.44517325, 0.4440104 , 0.4410638 , 0.43947311,\n",
       "       0.43924007, 0.4022731 , 0.40115775, 0.3968116 , 0.3949142 ,\n",
       "       0.39366697, 0.39234573, 0.39096623, 0.39092169, 0.38590182,\n",
       "       0.38466643, 0.36576189, 0.36521523, 0.36289108, 0.36276564,\n",
       "       0.36075683, 0.35942534, 0.35804711, 0.34876733, 0.34853713,\n",
       "       0.34529232, 0.34272544, 0.3409529 , 0.33922827, 0.33656892,\n",
       "       0.33634711, 0.33538051, 0.33478369, 0.33222211, 0.33107208,\n",
       "       0.32594513, 0.32508604, 0.31817727, 0.31800654, 0.2999872 ,\n",
       "       0.29890801, 0.27659873, 0.2750959 , 0.27350226, 0.27137243,\n",
       "       0.26769685, 0.26735377, 0.26606247, 0.26509638, 0.26385919,\n",
       "       0.26303518, 0.26257972, 0.25828006, 0.25630086, 0.25458566,\n",
       "       0.23756255, 0.23616182, 0.21136848, 0.21072823, 0.20940708,\n",
       "       0.20561281, 0.20344324, 0.20266983, 0.19250092, 0.18856628,\n",
       "       0.18838736, 0.17906068, 0.17105679])"
      ]
     },
     "execution_count": 36,
     "metadata": {},
     "output_type": "execute_result"
    }
   ],
   "source": [
    "#### Calculate the ROc Curve\n",
    "\n",
    "\n",
    "fpr, tpr, thresholds = roc_curve(y_test, final_prediction)\n",
    "thresholds"
   ]
  },
  {
   "cell_type": "code",
   "execution_count": 37,
   "metadata": {},
   "outputs": [
    {
     "data": {
      "text/html": [
       "<div>\n",
       "<style scoped>\n",
       "    .dataframe tbody tr th:only-of-type {\n",
       "        vertical-align: middle;\n",
       "    }\n",
       "\n",
       "    .dataframe tbody tr th {\n",
       "        vertical-align: top;\n",
       "    }\n",
       "\n",
       "    .dataframe thead th {\n",
       "        text-align: right;\n",
       "    }\n",
       "</style>\n",
       "<table border=\"1\" class=\"dataframe\">\n",
       "  <thead>\n",
       "    <tr style=\"text-align: right;\">\n",
       "      <th></th>\n",
       "      <th>thresholds</th>\n",
       "      <th>accuracy</th>\n",
       "    </tr>\n",
       "  </thead>\n",
       "  <tbody>\n",
       "    <tr>\n",
       "      <th>204</th>\n",
       "      <td>0.641804</td>\n",
       "      <td>0.947844</td>\n",
       "    </tr>\n",
       "    <tr>\n",
       "      <th>230</th>\n",
       "      <td>0.571984</td>\n",
       "      <td>0.947844</td>\n",
       "    </tr>\n",
       "    <tr>\n",
       "      <th>225</th>\n",
       "      <td>0.580975</td>\n",
       "      <td>0.947149</td>\n",
       "    </tr>\n",
       "    <tr>\n",
       "      <th>226</th>\n",
       "      <td>0.578468</td>\n",
       "      <td>0.947149</td>\n",
       "    </tr>\n",
       "    <tr>\n",
       "      <th>229</th>\n",
       "      <td>0.572965</td>\n",
       "      <td>0.947149</td>\n",
       "    </tr>\n",
       "  </tbody>\n",
       "</table>\n",
       "</div>"
      ],
      "text/plain": [
       "     thresholds  accuracy\n",
       "204    0.641804  0.947844\n",
       "230    0.571984  0.947844\n",
       "225    0.580975  0.947149\n",
       "226    0.578468  0.947149\n",
       "229    0.572965  0.947149"
      ]
     },
     "execution_count": 37,
     "metadata": {},
     "output_type": "execute_result"
    }
   ],
   "source": [
    "from sklearn.metrics import accuracy_score\n",
    "accuracy_ls = []\n",
    "for thres in thresholds:\n",
    "    y_pred = np.where(final_prediction>thres,1,0)\n",
    "    accuracy_ls.append(accuracy_score(y_test, y_pred, normalize=True))\n",
    "    \n",
    "accuracy_ls = pd.concat([pd.Series(thresholds), pd.Series(accuracy_ls)],\n",
    "                        axis=1)\n",
    "accuracy_ls.columns = ['thresholds', 'accuracy']\n",
    "accuracy_ls.sort_values(by='accuracy', ascending=False, inplace=True)\n",
    "accuracy_ls.head()"
   ]
  },
  {
   "cell_type": "code",
   "execution_count": 38,
   "metadata": {},
   "outputs": [
    {
     "data": {
      "text/html": [
       "<div>\n",
       "<style scoped>\n",
       "    .dataframe tbody tr th:only-of-type {\n",
       "        vertical-align: middle;\n",
       "    }\n",
       "\n",
       "    .dataframe tbody tr th {\n",
       "        vertical-align: top;\n",
       "    }\n",
       "\n",
       "    .dataframe thead th {\n",
       "        text-align: right;\n",
       "    }\n",
       "</style>\n",
       "<table border=\"1\" class=\"dataframe\">\n",
       "  <thead>\n",
       "    <tr style=\"text-align: right;\">\n",
       "      <th></th>\n",
       "      <th>thresholds</th>\n",
       "      <th>accuracy</th>\n",
       "    </tr>\n",
       "  </thead>\n",
       "  <tbody>\n",
       "    <tr>\n",
       "      <th>204</th>\n",
       "      <td>0.641804</td>\n",
       "      <td>0.947844</td>\n",
       "    </tr>\n",
       "    <tr>\n",
       "      <th>230</th>\n",
       "      <td>0.571984</td>\n",
       "      <td>0.947844</td>\n",
       "    </tr>\n",
       "    <tr>\n",
       "      <th>225</th>\n",
       "      <td>0.580975</td>\n",
       "      <td>0.947149</td>\n",
       "    </tr>\n",
       "    <tr>\n",
       "      <th>226</th>\n",
       "      <td>0.578468</td>\n",
       "      <td>0.947149</td>\n",
       "    </tr>\n",
       "    <tr>\n",
       "      <th>229</th>\n",
       "      <td>0.572965</td>\n",
       "      <td>0.947149</td>\n",
       "    </tr>\n",
       "    <tr>\n",
       "      <th>...</th>\n",
       "      <td>...</td>\n",
       "      <td>...</td>\n",
       "    </tr>\n",
       "    <tr>\n",
       "      <th>4</th>\n",
       "      <td>0.863463</td>\n",
       "      <td>0.317107</td>\n",
       "    </tr>\n",
       "    <tr>\n",
       "      <th>3</th>\n",
       "      <td>0.864066</td>\n",
       "      <td>0.316412</td>\n",
       "    </tr>\n",
       "    <tr>\n",
       "      <th>2</th>\n",
       "      <td>0.866186</td>\n",
       "      <td>0.309458</td>\n",
       "    </tr>\n",
       "    <tr>\n",
       "      <th>1</th>\n",
       "      <td>0.869938</td>\n",
       "      <td>0.308762</td>\n",
       "    </tr>\n",
       "    <tr>\n",
       "      <th>0</th>\n",
       "      <td>1.869938</td>\n",
       "      <td>0.308762</td>\n",
       "    </tr>\n",
       "  </tbody>\n",
       "</table>\n",
       "<p>348 rows × 2 columns</p>\n",
       "</div>"
      ],
      "text/plain": [
       "     thresholds  accuracy\n",
       "204    0.641804  0.947844\n",
       "230    0.571984  0.947844\n",
       "225    0.580975  0.947149\n",
       "226    0.578468  0.947149\n",
       "229    0.572965  0.947149\n",
       "..          ...       ...\n",
       "4      0.863463  0.317107\n",
       "3      0.864066  0.316412\n",
       "2      0.866186  0.309458\n",
       "1      0.869938  0.308762\n",
       "0      1.869938  0.308762\n",
       "\n",
       "[348 rows x 2 columns]"
      ]
     },
     "execution_count": 38,
     "metadata": {},
     "output_type": "execute_result"
    }
   ],
   "source": [
    "\n",
    "accuracy_ls"
   ]
  },
  {
   "cell_type": "code",
   "execution_count": 39,
   "metadata": {},
   "outputs": [],
   "source": [
    "def plot_roc_curve(fpr, tpr):\n",
    "    plt.plot(fpr, tpr, color='orange', label='ROC')\n",
    "    plt.plot([0, 1], [0, 1], color='darkblue', linestyle='--')\n",
    "    plt.xlabel('False Positive Rate')\n",
    "    plt.ylabel('True Positive Rate')\n",
    "    plt.title('Receiver Operating Characteristic (ROC) Curve')\n",
    "    plt.legend()\n",
    "    plt.show()"
   ]
  },
  {
   "cell_type": "code",
   "execution_count": 40,
   "metadata": {},
   "outputs": [
    {
     "data": {
      "image/png": "[encoded data removed]",
      "text/plain": [
       "<Figure size 432x288 with 1 Axes>"
      ]
     },
     "metadata": {
      "needs_background": "light"
     },
     "output_type": "display_data"
    }
   ],
   "source": [
    "plot_roc_curve(fpr,tpr)"
   ]
  },
  {
   "cell_type": "code",
   "execution_count": null,
   "metadata": {},
   "outputs": [],
   "source": []
  }
 ],
 "metadata": {
  "kernelspec": {
   "display_name": "Python 3",
   "language": "python",
   "name": "python3"
  },
  "language_info": {
   "codemirror_mode": {
    "name": "ipython",
    "version": 3
   },
   "file_extension": ".py",
   "mimetype": "text/x-python",
   "name": "python",
   "nbconvert_exporter": "python",
   "pygments_lexer": "ipython3",
   "version": "3.7.6"
  }
 },
 "nbformat": 4,
 "nbformat_minor": 4
}
